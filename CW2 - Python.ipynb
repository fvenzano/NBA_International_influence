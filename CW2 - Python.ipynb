{
 "cells": [
  {
   "cell_type": "markdown",
   "metadata": {},
   "source": [
    "# CW2 - Data Programming in Python - Francisco Venzano\n",
    "#### How international players have influenced the NBA in the last 25 years\n",
    "\n",
    "In the last few decades, the sport of Basketball has seen a worldwide growth in terms of popularity. This fact has been reflected in the influence of International Players in the NBA.\n",
    "In the past, NBA was largely dominated by American players, and while this might still be true, the league has seen a massive growth on international players impacting the league.\n",
    "In CW1, we worked out a clean dataset that will help us to understand:\n",
    "\n",
    "    1. International growth on NBA rosters.\n",
    "    2. Country diversification.\n",
    "    3. Career duration.\n",
    "    4. Impact on winning.\n",
    "    5. Has the American/International breakeven point been reached."
   ]
  },
  {
   "cell_type": "markdown",
   "metadata": {},
   "source": [
    "### Import Libraries"
   ]
  },
  {
   "cell_type": "code",
   "execution_count": 2,
   "metadata": {},
   "outputs": [],
   "source": [
    "import numpy as np\n",
    "import pandas as pd"
   ]
  },
  {
   "cell_type": "markdown",
   "metadata": {},
   "source": [
    "### Import Dataset from CW1's output"
   ]
  },
  {
   "cell_type": "code",
   "execution_count": null,
   "metadata": {},
   "outputs": [],
   "source": []
  }
 ],
 "metadata": {
  "kernelspec": {
   "display_name": "Python 3",
   "language": "python",
   "name": "python3"
  },
  "language_info": {
   "codemirror_mode": {
    "name": "ipython",
    "version": 3
   },
   "file_extension": ".py",
   "mimetype": "text/x-python",
   "name": "python",
   "nbconvert_exporter": "python",
   "pygments_lexer": "ipython3",
   "version": "3.8.5"
  }
 },
 "nbformat": 4,
 "nbformat_minor": 4
}
